{
 "cells": [
  {
   "cell_type": "code",
   "execution_count": 1,
   "id": "bb92eab9",
   "metadata": {
    "execution": {
     "iopub.execute_input": "2024-03-14T17:36:33.297037Z",
     "iopub.status.busy": "2024-03-14T17:36:33.296684Z",
     "iopub.status.idle": "2024-03-14T17:36:38.329947Z",
     "shell.execute_reply": "2024-03-14T17:36:38.328527Z"
    },
    "papermill": {
     "duration": 5.040892,
     "end_time": "2024-03-14T17:36:38.332590",
     "exception": false,
     "start_time": "2024-03-14T17:36:33.291698",
     "status": "completed"
    },
    "tags": []
   },
   "outputs": [
    {
     "name": "stdout",
     "output_type": "stream",
     "text": [
      "Processing /kaggle/input/immutabledict/immutabledict-4.1.0-py3-none-any.whl\r\n",
      "Installing collected packages: immutabledict\r\n",
      "Successfully installed immutabledict-4.1.0\r\n"
     ]
    }
   ],
   "source": [
    "!mkdir /kaggle/working/gemma/\n",
    "!cp /kaggle/input/gemma-pytorch/gemma_pytorch-main/gemma/* /kaggle/working/gemma/\n",
    "!pip install --no-index --no-deps /kaggle/input/immutabledict/immutabledict-4.1.0-py3-none-any.whl"
   ]
  },
  {
   "cell_type": "code",
   "execution_count": 2,
   "id": "6e35fbf6",
   "metadata": {
    "execution": {
     "iopub.execute_input": "2024-03-14T17:36:38.342624Z",
     "iopub.status.busy": "2024-03-14T17:36:38.341729Z",
     "iopub.status.idle": "2024-03-14T17:37:44.619788Z",
     "shell.execute_reply": "2024-03-14T17:37:44.618859Z"
    },
    "papermill": {
     "duration": 66.285678,
     "end_time": "2024-03-14T17:37:44.622299",
     "exception": false,
     "start_time": "2024-03-14T17:36:38.336621",
     "status": "completed"
    },
    "tags": []
   },
   "outputs": [
    {
     "name": "stderr",
     "output_type": "stream",
     "text": [
      "/opt/conda/lib/python3.10/site-packages/torch/_utils.py:831: UserWarning: TypedStorage is deprecated. It will be removed in the future and UntypedStorage will be the only storage class. This should only matter to you if you are using storages directly.  To access UntypedStorage directly, use tensor.untyped_storage() instead of tensor.storage()\n",
      "  return self.fget.__get__(instance, owner)()\n"
     ]
    }
   ],
   "source": [
    "import sys \n",
    "import pandas as pd\n",
    "sys.path.append(\"/kaggle/working/\") \n",
    "from gemma.config import GemmaConfig, get_config_for_7b, get_config_for_2b\n",
    "from gemma.model import GemmaForCausalLM\n",
    "from gemma.tokenizer import Tokenizer\n",
    "import contextlib\n",
    "import os\n",
    "import torch\n",
    "from tqdm import tqdm\n",
    "# Load the model\n",
    "VARIANT = \"7b-it-quant\" \n",
    "MACHINE_TYPE = \"cuda\" \n",
    "weights_dir = '/kaggle/input/gemma/pytorch/7b-it-quant/2' \n",
    "\n",
    "\n",
    "@contextlib.contextmanager\n",
    "def _set_default_tensor_type(dtype: torch.dtype):\n",
    "    \"\"\"Sets the default torch dtype to the given dtype.\"\"\"\n",
    "    torch.set_default_dtype(dtype)\n",
    "    yield\n",
    "    torch.set_default_dtype(torch.float)\n",
    "\n",
    "# Model Config.\n",
    "model_config = get_config_for_2b() if \"2b\" in VARIANT else get_config_for_7b()\n",
    "model_config.tokenizer = os.path.join(weights_dir, \"tokenizer.model\")\n",
    "model_config.quant = \"quant\" in VARIANT\n",
    "\n",
    "# Model.\n",
    "device = torch.device(MACHINE_TYPE)\n",
    "with _set_default_tensor_type(model_config.get_dtype()):\n",
    "    model = GemmaForCausalLM(model_config)\n",
    "    ckpt_path = os.path.join(weights_dir, f'gemma-{VARIANT}.ckpt')\n",
    "    model.load_weights(ckpt_path)\n",
    "    model = model.to(device).eval()"
   ]
  },
  {
   "cell_type": "code",
   "execution_count": 3,
   "id": "5d00298d",
   "metadata": {
    "execution": {
     "iopub.execute_input": "2024-03-14T17:37:44.630993Z",
     "iopub.status.busy": "2024-03-14T17:37:44.630526Z",
     "iopub.status.idle": "2024-03-14T17:37:44.644805Z",
     "shell.execute_reply": "2024-03-14T17:37:44.643647Z"
    },
    "papermill": {
     "duration": 0.020943,
     "end_time": "2024-03-14T17:37:44.646938",
     "exception": false,
     "start_time": "2024-03-14T17:37:44.625995",
     "status": "completed"
    },
    "tags": []
   },
   "outputs": [],
   "source": [
    "test = pd.read_csv(\"/kaggle/input/llm-prompt-recovery/test.csv\")"
   ]
  },
  {
   "cell_type": "code",
   "execution_count": 4,
   "id": "dc53e2e6",
   "metadata": {
    "execution": {
     "iopub.execute_input": "2024-03-14T17:37:44.655100Z",
     "iopub.status.busy": "2024-03-14T17:37:44.654535Z",
     "iopub.status.idle": "2024-03-14T17:37:44.659111Z",
     "shell.execute_reply": "2024-03-14T17:37:44.658144Z"
    },
    "papermill": {
     "duration": 0.010932,
     "end_time": "2024-03-14T17:37:44.661241",
     "exception": false,
     "start_time": "2024-03-14T17:37:44.650309",
     "status": "completed"
    },
    "tags": []
   },
   "outputs": [],
   "source": [
    "template = \"\"\"Below, the `Original Text` passage has been rewritten into `Rewritten Text` by the Gemma LLM with a certain prompt. \n",
    "\n",
    "Original Text:\\n{original_text}\n",
    "\n",
    "Rewriten Text:\\n{rewritten_text}\n",
    "\n",
    "Your task is to generate a prompt to rewrite `Original Text` as `Rewritten Text` directily, in just one line in the most simple way.\n",
    "\"\"\""
   ]
  },
  {
   "cell_type": "code",
   "execution_count": 5,
   "id": "16aa358a",
   "metadata": {
    "execution": {
     "iopub.execute_input": "2024-03-14T17:37:44.669167Z",
     "iopub.status.busy": "2024-03-14T17:37:44.668863Z",
     "iopub.status.idle": "2024-03-14T17:38:27.911972Z",
     "shell.execute_reply": "2024-03-14T17:38:27.910882Z"
    },
    "papermill": {
     "duration": 43.254474,
     "end_time": "2024-03-14T17:38:27.919003",
     "exception": false,
     "start_time": "2024-03-14T17:37:44.664529",
     "status": "completed"
    },
    "tags": []
   },
   "outputs": [
    {
     "name": "stderr",
     "output_type": "stream",
     "text": [
      "100%|██████████| 1/1 [00:43<00:00, 43.23s/it]\n"
     ]
    }
   ],
   "source": [
    "USER_CHAT_TEMPLATE = \"<start_of_turn>user\\n{prompt}<end_of_turn>\\n<start_of_turn>model\\n\"\n",
    "\n",
    "preds = []\n",
    "for i in tqdm(range(len(test))):\n",
    "    row = test.iloc[i]\n",
    "    \n",
    "    prompt = template.format(\n",
    "        original_text=row.original_text,\n",
    "        rewritten_text=row.rewritten_text\n",
    "    )\n",
    "\n",
    "    output = model.generate(USER_CHAT_TEMPLATE.format(prompt=prompt),\n",
    "                            device=device,\n",
    "                            output_len=100)\n",
    "    pred = output.replace(prompt, \"\")\n",
    "    \n",
    "    preds.append([row.id, pred])"
   ]
  },
  {
   "cell_type": "code",
   "execution_count": 6,
   "id": "263f1ca3",
   "metadata": {
    "execution": {
     "iopub.execute_input": "2024-03-14T17:38:27.928008Z",
     "iopub.status.busy": "2024-03-14T17:38:27.927606Z",
     "iopub.status.idle": "2024-03-14T17:38:27.948604Z",
     "shell.execute_reply": "2024-03-14T17:38:27.947492Z"
    },
    "papermill": {
     "duration": 0.028197,
     "end_time": "2024-03-14T17:38:27.950978",
     "exception": false,
     "start_time": "2024-03-14T17:38:27.922781",
     "status": "completed"
    },
    "tags": []
   },
   "outputs": [
    {
     "data": {
      "text/html": [
       "<div>\n",
       "<style scoped>\n",
       "    .dataframe tbody tr th:only-of-type {\n",
       "        vertical-align: middle;\n",
       "    }\n",
       "\n",
       "    .dataframe tbody tr th {\n",
       "        vertical-align: top;\n",
       "    }\n",
       "\n",
       "    .dataframe thead th {\n",
       "        text-align: right;\n",
       "    }\n",
       "</style>\n",
       "<table border=\"1\" class=\"dataframe\">\n",
       "  <thead>\n",
       "    <tr style=\"text-align: right;\">\n",
       "      <th></th>\n",
       "      <th>id</th>\n",
       "      <th>rewrite_prompt</th>\n",
       "    </tr>\n",
       "  </thead>\n",
       "  <tbody>\n",
       "    <tr>\n",
       "      <th>0</th>\n",
       "      <td>-1</td>\n",
       "      <td>Sure, here's the prompt to rewrite `Original T...</td>\n",
       "    </tr>\n",
       "  </tbody>\n",
       "</table>\n",
       "</div>"
      ],
      "text/plain": [
       "   id                                     rewrite_prompt\n",
       "0  -1  Sure, here's the prompt to rewrite `Original T..."
      ]
     },
     "execution_count": 6,
     "metadata": {},
     "output_type": "execute_result"
    }
   ],
   "source": [
    "sub_df = pd.DataFrame(preds, columns=[\"id\", \"rewrite_prompt\"])\n",
    "sub_df['rewrite_prompt'] = sub_df['rewrite_prompt'].fillna(\"\")\n",
    "sub_df['rewrite_prompt'] = sub_df['rewrite_prompt'].map(lambda x: \"Improve the essay\" if len(x) == 0 else x)\n",
    "sub_df.to_csv(\"submission.csv\",index=False)\n",
    "sub_df.head()"
   ]
  }
 ],
 "metadata": {
  "kaggle": {
   "accelerator": "gpu",
   "dataSources": [
    {
     "databundleVersionId": 7806901,
     "sourceId": 67121,
     "sourceType": "competition"
    },
    {
     "datasetId": 4505971,
     "sourceId": 7715470,
     "sourceType": "datasetVersion"
    },
    {
     "datasetId": 4505960,
     "sourceId": 7715453,
     "sourceType": "datasetVersion"
    },
    {
     "modelInstanceId": 8749,
     "sourceId": 11359,
     "sourceType": "modelInstanceVersion"
    }
   ],
   "dockerImageVersionId": 30648,
   "isGpuEnabled": true,
   "isInternetEnabled": false,
   "language": "python",
   "sourceType": "notebook"
  },
  "kernelspec": {
   "display_name": "Python 3",
   "language": "python",
   "name": "python3"
  },
  "language_info": {
   "codemirror_mode": {
    "name": "ipython",
    "version": 3
   },
   "file_extension": ".py",
   "mimetype": "text/x-python",
   "name": "python",
   "nbconvert_exporter": "python",
   "pygments_lexer": "ipython3",
   "version": "3.10.13"
  },
  "papermill": {
   "default_parameters": {},
   "duration": 119.300799,
   "end_time": "2024-03-14T17:38:29.377665",
   "environment_variables": {},
   "exception": null,
   "input_path": "__notebook__.ipynb",
   "output_path": "__notebook__.ipynb",
   "parameters": {},
   "start_time": "2024-03-14T17:36:30.076866",
   "version": "2.5.0"
  }
 },
 "nbformat": 4,
 "nbformat_minor": 5
}
